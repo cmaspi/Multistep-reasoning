{
 "cells": [
  {
   "cell_type": "code",
   "execution_count": null,
   "metadata": {},
   "outputs": [],
   "source": [
    "import torch\n",
    "from transformers import AutoModelForCausalLM, AutoTokenizer"
   ]
  },
  {
   "cell_type": "code",
   "execution_count": null,
   "metadata": {},
   "outputs": [],
   "source": [
    "truth_judge = AutoModelForCausalLM.from_pretrained(\"allenai/truthfulqa-truth-judge-llama2-7B\").to(\"cuda:7\")\n",
    "tokenizer = AutoTokenizer.from_pretrained(\"allenai/truthfulqa-truth-judge-llama2-7B\", max_length=100)"
   ]
  },
  {
   "cell_type": "code",
   "execution_count": null,
   "metadata": {},
   "outputs": [],
   "source": [
    "device = 'cuda:7'"
   ]
  },
  {
   "cell_type": "code",
   "execution_count": null,
   "metadata": {},
   "outputs": [],
   "source": [
    "prompt = 'Ice is form of water\\nTrue:'\n",
    "inputs = tokenizer([prompt], return_tensors=\"pt\").to(device)\n",
    "outputs = truth_judge.generate(**inputs, output_scores=True, return_dict_in_generate=True, max_length=100)"
   ]
  },
  {
   "cell_type": "code",
   "execution_count": null,
   "metadata": {},
   "outputs": [],
   "source": [
    "input_length = 1 if truth_judge.config.is_encoder_decoder else inputs.input_ids.shape[1]\n",
    "transition_scores = truth_judge.compute_transition_scores(outputs.sequences, outputs.scores, normalize_logits=True)\n",
    "generated_tokens = outputs.sequences[:,input_length:]"
   ]
  },
  {
   "cell_type": "code",
   "execution_count": null,
   "metadata": {},
   "outputs": [],
   "source": [
    "import numpy as np\n",
    "for tok, score in zip(generated_tokens[0], transition_scores[0]):\n",
    "    print(f\"| {tok:5d} | {tokenizer.decode(tok):8s} | {score.numpy(force=True):.4f} | {np.exp(score.numpy(force=True)):.2%}\")"
   ]
  },
  {
   "cell_type": "code",
   "execution_count": null,
   "metadata": {},
   "outputs": [],
   "source": [
    "greedy_scores.topk(5, dim=1)"
   ]
  },
  {
   "cell_type": "code",
   "execution_count": null,
   "metadata": {},
   "outputs": [],
   "source": [
    "greedy_top_tokens = tokenizer.batch_decode(greedy_scores.topk(5, dim=1).indices)[0].split()\n",
    "\n",
    "# for token in greedy_top_tokens:\n",
    "#     print(token)\n",
    "greedy_top_tokens"
   ]
  },
  {
   "cell_type": "code",
   "execution_count": null,
   "metadata": {},
   "outputs": [],
   "source": [
    "len(t[0])"
   ]
  },
  {
   "cell_type": "code",
   "execution_count": null,
   "metadata": {},
   "outputs": [],
   "source": [
    "pred_truth_label = tokenizer.decode(outputs[0], return_scores=True, skip_special_tokens=True)\n",
    "pred_truth_label"
   ]
  }
 ],
 "metadata": {
  "kernelspec": {
   "display_name": "NLP",
   "language": "python",
   "name": "python3"
  },
  "language_info": {
   "codemirror_mode": {
    "name": "ipython",
    "version": 3
   },
   "file_extension": ".py",
   "mimetype": "text/x-python",
   "name": "python",
   "nbconvert_exporter": "python",
   "pygments_lexer": "ipython3",
   "version": "3.10.14"
  }
 },
 "nbformat": 4,
 "nbformat_minor": 2
}
