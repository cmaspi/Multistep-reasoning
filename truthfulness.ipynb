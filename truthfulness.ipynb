{
 "cells": [
  {
   "cell_type": "code",
   "execution_count": null,
   "metadata": {},
   "outputs": [],
   "source": [
    "from transformers import AutoModelForCausalLM, AutoTokenizer\n",
    "import numpy as np"
   ]
  },
  {
   "cell_type": "code",
   "execution_count": null,
   "metadata": {},
   "outputs": [],
   "source": [
    "def faithfulness_score(hyp, premises_dict_list, info_judge, info_tokenizer, device):\n",
    "    entail_score = 1\n",
    "    for premise in premises_dict_list:\n",
    "        premise = premise[\"HYP\"]\n",
    "        prompt = \"Q: \"+hyp+\"\\nA: \"+premise+\"\\nHelpful:\"\n",
    "        inputs = info_tokenizer([prompt], return_tensors=\"pt\").to(device)\n",
    "        outputs = info_judge.generate(**inputs, output_scores=True, return_dict_in_generate=True, max_length=500)\n",
    "        input_length = 1 if info_judge.config.is_encoder_decoder else inputs.input_ids.shape[1]\n",
    "        transition_scores = info_judge.compute_transition_scores(outputs.sequences, outputs.scores, normalize_logits=True)\n",
    "        generated_tokens = outputs.sequences[:,input_length:]\n",
    "        score = transition_scores[0][0]\n",
    "        score = np.exp(score.numpy(force=True))\n",
    "        if info_tokenizer.decode(generated_tokens[0][0])=='yes':\n",
    "            entail_score *= score\n",
    "        else:\n",
    "            entail_score *= (1.0-score)\n",
    "    return entail_score\n",
    "\n",
    "def truthfulness_score(prompt, truth_judge, truth_tokenizer, device):\n",
    "    prompt = prompt+\"\\nTrue:\"\n",
    "    inputs = truth_tokenizer([prompt], return_tensors=\"pt\").to(device)\n",
    "    outputs = truth_judge.generate(**inputs, output_scores=True, return_dict_in_generate=True, max_length=500)\n",
    "    input_length = 1 if truth_judge.config.is_encoder_decoder else inputs.input_ids.shape[1]\n",
    "    transition_scores = truth_judge.compute_transition_scores(outputs.sequences, outputs.scores, normalize_logits=True)\n",
    "    generated_tokens = outputs.sequences[:,input_length:]\n",
    "    score = transition_scores[0][0]\n",
    "    score = np.exp(score.numpy(force=True))\n",
    "    if truth_tokenizer.decode(generated_tokens[0][0])=='yes':\n",
    "        return score\n",
    "    return 1.0-score"
   ]
  },
  {
   "cell_type": "code",
   "execution_count": null,
   "metadata": {},
   "outputs": [],
   "source": [
    "def modify_faith_scores(info, info_judge, info_tokenizer, device):\n",
    "    if len(info[\"premises\"])==0:\n",
    "        return info\n",
    "    \n",
    "    info[\"llama_faith\"] = faithfulness_score(info[\"HYP\"], info[\"premises\"], info_judge, info_tokenizer, device)\n",
    "    \n",
    "    for i in range(len(info[\"premises\"])):\n",
    "        info[\"premises\"][i] = modify_faith_scores(info[\"premises\"][i], info_judge, info_tokenizer, device)\n",
    "    \n",
    "    return info\n",
    "\n",
    "def modify_truth_scores(info, truth_judge, truth_tokenizer, device):\n",
    "    if len(info[\"premises\"])==0:\n",
    "        return info\n",
    "    \n",
    "    info[\"llama_truth\"] = truthfulness_score(info[\"HYP\"], truth_judge, truth_tokenizer, device)\n",
    "    \n",
    "    if not isinstance(info[\"llama_faith\"], str):\n",
    "        info[\"llama_faith\"] = str(info[\"llama_faith\"])\n",
    "    \n",
    "    for i in range(len(info[\"premises\"])):\n",
    "        info[\"premises\"][i] = modify_truth_scores(info[\"premises\"][i], truth_judge, truth_tokenizer, device)\n",
    "        \n",
    "    return info\n",
    "    "
   ]
  },
  {
   "cell_type": "code",
   "execution_count": null,
   "metadata": {},
   "outputs": [],
   "source": [
    "truth_judge = AutoModelForCausalLM.from_pretrained(\"/u/student/2020/cs17m20p100001/NLP/Multistep-reasoning/truthfulqa_reeval/output/llama2_7B_truth_judge_final\").to('cuda:12')\n",
    "truth_tokenizer = AutoTokenizer.from_pretrained(\"/u/student/2020/cs17m20p100001/NLP/Multistep-reasoning/truthfulqa_reeval/output/llama2_7B_truth_judge_final\", max_length=100)"
   ]
  },
  {
   "cell_type": "code",
   "execution_count": null,
   "metadata": {},
   "outputs": [],
   "source": [
    "from tqdm import tqdm \n",
    "\n",
    "modified_lines = []\n",
    "with open('fulldepth_obqa_scores.jsonl', 'r') as f:\n",
    "    lines = f.readlines()\n",
    "    for i in tqdm(range(len(lines))):\n",
    "        line = eval(lines[i])\n",
    "        line = modify_truth_scores(line, truth_judge, truth_tokenizer, device='cuda:12')\n",
    "        modified_lines.append(line)   "
   ]
  },
  {
   "cell_type": "code",
   "execution_count": null,
   "metadata": {},
   "outputs": [],
   "source": [
    "import json\n",
    "\n",
    "with open('fulldepth_obqa_scores_finetuned.jsonl', 'a') as f:\n",
    "    for line in modified_lines:\n",
    "        json.dump(line, f)\n",
    "        f.write('\\n')"
   ]
  },
  {
   "cell_type": "code",
   "execution_count": null,
   "metadata": {},
   "outputs": [],
   "source": [
    "from tqdm import tqdm \n",
    "\n",
    "modified_lines = []\n",
    "with open('fulldepth_quartz_scores.jsonl', 'r') as f:\n",
    "    lines = f.readlines()\n",
    "    for i in tqdm(range(len(lines))):\n",
    "        line = eval(lines[i])\n",
    "        line = modify_truth_scores(line, truth_judge, truth_tokenizer, device='cuda:12')\n",
    "        modified_lines.append(line)   "
   ]
  },
  {
   "cell_type": "code",
   "execution_count": null,
   "metadata": {},
   "outputs": [],
   "source": [
    "import json\n",
    "\n",
    "with open('fulldepth_quartz_scores_finetuned.jsonl', 'a') as f:\n",
    "    for line in modified_lines:\n",
    "        json.dump(line, f)\n",
    "        f.write('\\n')"
   ]
  },
  {
   "cell_type": "code",
   "execution_count": null,
   "metadata": {},
   "outputs": [],
   "source": [
    "from tqdm import tqdm \n",
    "\n",
    "modified_lines = []\n",
    "with open('fulldepth_truthfulqa_scores.jsonl', 'r') as f:\n",
    "    lines = f.readlines()\n",
    "    for i in tqdm(range(len(lines))):\n",
    "        line = eval(lines[i])\n",
    "        line = modify_truth_scores(line, truth_judge, truth_tokenizer, device='cuda:12')\n",
    "        modified_lines.append(line)   "
   ]
  },
  {
   "cell_type": "code",
   "execution_count": null,
   "metadata": {},
   "outputs": [],
   "source": [
    "import json\n",
    "\n",
    "with open('fulldepth_truthfulqa_scores_finetuned.jsonl', 'a') as f:\n",
    "    for line in modified_lines:\n",
    "        json.dump(line, f)\n",
    "        f.write('\\n')"
   ]
  }
 ],
 "metadata": {
  "kernelspec": {
   "display_name": "NLP",
   "language": "python",
   "name": "python3"
  },
  "language_info": {
   "codemirror_mode": {
    "name": "ipython",
    "version": 3
   },
   "file_extension": ".py",
   "mimetype": "text/x-python",
   "name": "python",
   "nbconvert_exporter": "python",
   "pygments_lexer": "ipython3",
   "version": "3.10.14"
  }
 },
 "nbformat": 4,
 "nbformat_minor": 2
}
